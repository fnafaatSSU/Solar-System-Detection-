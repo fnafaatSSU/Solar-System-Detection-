{
  "nbformat": 4,
  "nbformat_minor": 0,
  "metadata": {
    "colab": {
      "provenance": [],
      "private_outputs": true
    },
    "kernelspec": {
      "name": "python3",
      "display_name": "Python 3"
    },
    "language_info": {
      "name": "python"
    },
    "accelerator": "GPU",
    "gpuClass": "standard"
  },
  "cells": [
    {
      "cell_type": "code",
      "execution_count": null,
      "metadata": {
        "id": "7q2tnyF24bk_"
      },
      "outputs": [],
      "source": [
        "from tensorflow.keras.preprocessing.image import ImageDataGenerator\n",
        "from tensorflow.keras.preprocessing import image\n",
        "from tensorflow.keras.optimizers import RMSprop\n",
        "import tensorflow as tf\n",
        "import matplotlib.pyplot as plt\n",
        "import numpy as np\n",
        "import cv2\n",
        "import os"
      ]
    },
    {
      "cell_type": "code",
      "source": [
        "tf.random.set_seed(42)\n"
      ],
      "metadata": {
        "id": "PFVyivr_J3FS"
      },
      "execution_count": null,
      "outputs": []
    },
    {
      "cell_type": "code",
      "source": [
        "from google.colab import drive\n",
        "drive.mount('/content/drive')"
      ],
      "metadata": {
        "id": "_Edera3CiY7q"
      },
      "execution_count": null,
      "outputs": []
    },
    {
      "cell_type": "code",
      "source": [
        "img=image.load_img(\"/content/drive/MyDrive/mass_all/Worcester/0/0_Worcester_class0.jpg\")"
      ],
      "metadata": {
        "id": "TCas-vWf5K4T"
      },
      "execution_count": null,
      "outputs": []
    },
    {
      "cell_type": "code",
      "source": [
        "plt.imshow(img)"
      ],
      "metadata": {
        "id": "FTh_ZIJy6zCQ"
      },
      "execution_count": null,
      "outputs": []
    },
    {
      "cell_type": "code",
      "source": [
        "img"
      ],
      "metadata": {
        "id": "1meEaf5kKYSd"
      },
      "execution_count": null,
      "outputs": []
    },
    {
      "cell_type": "code",
      "source": [
        "cv2.imread(\"/content/drive/MyDrive/mass_all/Worcester/0/0_Worcester_class0.jpg\")"
      ],
      "metadata": {
        "id": "NN1vuBRrhlY_"
      },
      "execution_count": null,
      "outputs": []
    },
    {
      "cell_type": "code",
      "source": [
        "cv2.imread(\"/content/drive/MyDrive/mass_all/Worcester/0/0_Worcester_class0.jpg\").shape"
      ],
      "metadata": {
        "id": "JJI2Askr7Eoo"
      },
      "execution_count": null,
      "outputs": []
    },
    {
      "cell_type": "code",
      "source": [
        "train=ImageDataGenerator(rescale=1/255)\n",
        "validation=ImageDataGenerator(rescale=1/255)\n",
        "test=ImageDataGenerator(rescale=1/255)"
      ],
      "metadata": {
        "id": "JSoiQ5V17myH"
      },
      "execution_count": null,
      "outputs": []
    },
    {
      "cell_type": "code",
      "source": [
        "cv2.imread(\"/content/drive/MyDrive/mass_all/Worcester/test/0/10_Worcester_class0.jpg\")"
      ],
      "metadata": {
        "id": "OFGZT_1TK_Qf"
      },
      "execution_count": null,
      "outputs": []
    },
    {
      "cell_type": "code",
      "source": [
        "train_dataset=train.flow_from_directory(\n",
        "    directory=r\"/content/drive/MyDrive/mass_all/Worcester/train/\",\n",
        "    target_size=(200, 200),\n",
        "    color_mode=\"rgb\",\n",
        "    batch_size=3,\n",
        "    class_mode=\"binary\",\n",
        "    shuffle=True,\n",
        "    seed=42)\n",
        "val_dataset = validation.flow_from_directory(\n",
        "    directory=r\"/content/drive/MyDrive/mass_all/Worcester/val/\",\n",
        "    target_size=(200, 200),\n",
        "    color_mode=\"rgb\",\n",
        "    batch_size=3,\n",
        "    class_mode=\"binary\",\n",
        "    shuffle=True,\n",
        "    seed=42\n",
        ")\n",
        "test_dataset = test.flow_from_directory(\n",
        "    directory=r\"/content/drive/MyDrive/mass_all/Worcester/test/\",\n",
        "    target_size=(200, 200),\n",
        "    color_mode=\"rgb\",\n",
        "    batch_size=3,\n",
        "    class_mode=\"binary\",\n",
        "    shuffle=True,\n",
        "    seed=42\n",
        ")"
      ],
      "metadata": {
        "id": "PRp7Fchi71RX"
      },
      "execution_count": null,
      "outputs": []
    },
    {
      "cell_type": "code",
      "source": [
        "images, labels = train_dataset.next() # get the 'next' batch of images/labels\n",
        "len(images), len(labels)\n"
      ],
      "metadata": {
        "id": "aSBCYNCpP8Mo"
      },
      "execution_count": null,
      "outputs": []
    },
    {
      "cell_type": "code",
      "source": [
        "images[:2], images[0].shape"
      ],
      "metadata": {
        "id": "uFvPU8w4QIZp"
      },
      "execution_count": null,
      "outputs": []
    },
    {
      "cell_type": "code",
      "source": [
        "train_dataset.class_indices"
      ],
      "metadata": {
        "id": "TRki8PxA8roI"
      },
      "execution_count": null,
      "outputs": []
    },
    {
      "cell_type": "code",
      "source": [
        "train_dataset.classes"
      ],
      "metadata": {
        "id": "RsNtbhA28yB4"
      },
      "execution_count": null,
      "outputs": []
    },
    {
      "cell_type": "code",
      "source": [
        "mymodel = tf.keras.models.Sequential([tf.keras.layers.Conv2D(16,(3,3),\n",
        "                         activation=\"relu\", \n",
        "\n",
        "                         input_shape=(200, 200, 3)), \n",
        "                         tf.keras.layers.MaxPool2D(2,2),\n",
        "\n",
        "\n",
        "           tf.keras.layers.Conv2D(32,(3,3),\n",
        "            activation=\"relu\"),\n",
        "            tf.keras.layers.MaxPool2D(2,2), # pool_size can also be (2, 2)\n",
        "\n",
        "\n",
        "            tf.keras.layers.Conv2D(32,(3,3), \n",
        "            activation=\"relu\"),\n",
        "            tf.keras.layers.MaxPool2D(2,2), # activation='relu' == tf.keras.layers.Activations(tf.nn.relu)\n",
        "\n",
        "\n",
        "tf.keras.layers.Flatten(),\n",
        "  \n",
        "tf.keras.layers.Dense(512,activation='relu'),\n",
        "\n",
        "tf.keras.layers.Dense(1, activation=\"sigmoid\") # binary activation output\n",
        "])"
      ],
      "metadata": {
        "id": "FpxcIGtF98dw"
      },
      "execution_count": null,
      "outputs": []
    },
    {
      "cell_type": "code",
      "source": [
        "mymodel.compile(loss=\"binary_crossentropy\",\n",
        "              optimizer=tf.keras.optimizers.Adam(),\n",
        "              metrics=[\"accuracy\"])"
      ],
      "metadata": {
        "id": "-97zWouJ2u5e"
      },
      "execution_count": null,
      "outputs": []
    },
    {
      "cell_type": "code",
      "source": [
        "model_fit=mymodel.fit(train_dataset,steps_per_epoch=3,\n",
        "                      epochs=5,\n",
        "                     validation_data=val_dataset)"
      ],
      "metadata": {
        "id": "lDXFFFq-3yVA"
      },
      "execution_count": null,
      "outputs": []
    },
    {
      "cell_type": "code",
      "source": [
        "Summary=mymodel.summary()\n"
      ],
      "metadata": {
        "id": "oLb3Px083KRI"
      },
      "execution_count": null,
      "outputs": []
    },
    {
      "cell_type": "code",
      "source": [
        "dir_path='/content/drive/MyDrive/mass_all/Worcester/test/1/'\n",
        "for i in os.listdir(dir_path):\n",
        "  img=image.load_img(dir_path+'//'+i,target_size=(200,200,3))\n",
        "  plt.imshow(img)"
      ],
      "metadata": {
        "id": "KYOqW-faY1wa"
      },
      "execution_count": null,
      "outputs": []
    },
    {
      "cell_type": "code",
      "source": [
        "def plot_loss_curves(history):\n",
        "  \"\"\"\n",
        "  Returns separate loss curves for training and validation metrics.\n",
        "  \"\"\" \n",
        "  loss = history.history['loss']\n",
        "  val_loss = history.history['val_loss']\n",
        "\n",
        "  accuracy = history.history['accuracy']\n",
        "  val_accuracy = history.history['val_accuracy']\n",
        "\n",
        "  epochs = range(len(history.history['loss']))\n",
        "\n",
        "  # Plot loss\n",
        "  plt.plot(epochs, loss, label='training_loss')\n",
        "  plt.plot(epochs, val_loss, label='val_loss')\n",
        "  plt.title('Loss')\n",
        "  plt.xlabel('Epochs')\n",
        "  plt.legend()\n",
        "\n",
        "  # Plot accuracy\n",
        "  plt.figure()\n",
        "  plt.plot(epochs, accuracy, label='training_accuracy')\n",
        "  plt.plot(epochs, val_accuracy, label='val_accuracy')\n",
        "  plt.title('Accuracy')\n",
        "  plt.xlabel('Epochs')\n",
        "  plt.legend();"
      ],
      "metadata": {
        "id": "a7UYf2TmaEt_"
      },
      "execution_count": null,
      "outputs": []
    },
    {
      "cell_type": "code",
      "source": [
        "plot_loss_curves(model_fit)\n"
      ],
      "metadata": {
        "id": "NbOi7UycZ6Xr"
      },
      "execution_count": null,
      "outputs": []
    },
    {
      "cell_type": "code",
      "source": [
        "dir_path='/content/drive/MyDrive/mass_all/Worcester/test/1'\n",
        "for i in os.listdir(dir_path):\n",
        "  img=image.load_img(dir_path +'//'+ i,target_size=(200,200,3))\n",
        "  plt.imshow(img)\n",
        "\n",
        "  X=image.img_to_array(img)\n",
        "  X=np.expand_dims(X,axis=0)\n",
        "  images=np.vstack(X)\n",
        "  images = tf.expand_dims(images, axis=0) # add an extra dimension at axis 0\n",
        "\n",
        "  val=mymodel.predict(images)\n",
        "  if val == 1:\n",
        "    print(\"There is no Solar here\")\n",
        "  else:\n",
        "    print(\"There is Solar here\")"
      ],
      "metadata": {
        "id": "y1bLsg1PY15y"
      },
      "execution_count": null,
      "outputs": []
    }
  ]
}